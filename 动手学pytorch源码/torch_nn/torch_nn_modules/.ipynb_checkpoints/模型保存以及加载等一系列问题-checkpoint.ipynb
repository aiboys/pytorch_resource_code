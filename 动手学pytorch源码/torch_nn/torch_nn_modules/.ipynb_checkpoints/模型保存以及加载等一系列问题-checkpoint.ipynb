{
 "cells": [
  {
   "cell_type": "markdown",
   "metadata": {
    "collapsed": true,
    "pycharm": {
     "name": "#%% md\n"
    }
   },
   "source": [
    "\n",
    "# 模型保存以及加载等一系列问题\n",
    "\n",
    "参考 [save, load](https://zhuanlan.zhihu.com/p/107203828)\n"
   ]
  },
  {
   "cell_type": "markdown",
   "metadata": {
    "pycharm": {
     "metadata": false,
     "name": "#%% md\n"
    }
   },
   "source": [
    "\n",
    "## 1. torch.nn.Module.state_dict\n",
    "\n",
    "Module.state_dict()通过调用self._save_to_state_dict()将模型的self._parameters, self._buffers保存\n",
    "进一个Orderdict中."
   ]
  },
  {
   "cell_type": "code",
   "execution_count": 2,
   "metadata": {
    "pycharm": {
     "metadata": false,
     "name": "#%% \n"
    }
   },
   "outputs": [
    {
     "name": "stdout",
     "output_type": "stream",
     "text": [
      "SGD (\n",
      "Parameter Group 0\n",
      "    dampening: 0\n",
      "    lr: 0.001\n",
      "    momentum: 0.9\n",
      "    nesterov: False\n",
      "    weight_decay: 0\n",
      ")\n",
      "Model's state_dict:\n",
      "conv1.weight \t torch.Size([6, 3, 5, 5])\n",
      "conv1.bias \t torch.Size([6])\n",
      "conv2.weight \t torch.Size([16, 6, 5, 5])\n",
      "conv2.bias \t torch.Size([16])\n",
      "fc1.weight \t torch.Size([120, 400])\n",
      "fc1.bias \t torch.Size([120])\n",
      "fc2.weight \t torch.Size([84, 120])\n",
      "fc2.bias \t torch.Size([84])\n",
      "fc3.weight \t torch.Size([10, 84])\n",
      "fc3.bias \t torch.Size([10])\n",
      "Optimizer's state_dict:\n",
      "state \t {}\n",
      "param_groups \t [{'lr': 0.001, 'momentum': 0.9, 'dampening': 0, 'weight_decay': 0, 'nesterov': False, 'params': [2842111917296, 2842111915424, 2842111916216, 2842111917728, 2842111917152, 2842111917872, 2842111915928, 2842111915784, 2842111916360, 2842111914632]}]\n"
     ]
    }
   ],
   "source": [
    "import torch\n",
    "import torch.nn as nn\n",
    "\n",
    "import torch.nn.functional as F\n",
    "import torch.optim as optim\n",
    "class TheModelClass(nn.Module):\n",
    "    def __init__(self):\n",
    "        super(TheModelClass, self).__init__()\n",
    "        self.conv1 = nn.Conv2d(3, 6, 5)\n",
    "        self.pool = nn.MaxPool2d(2, 2)\n",
    "        self.conv2 = nn.Conv2d(6, 16, 5)\n",
    "        self.fc1 = nn.Linear(16 * 5 * 5, 120)\n",
    "        self.fc2 = nn.Linear(120, 84)\n",
    "        self.fc3 = nn.Linear(84, 10)\n",
    "\n",
    "    def forward(self, x):\n",
    "        x = self.pool(F.relu(self.conv1(x)))\n",
    "        x = self.pool(F.relu(self.conv2(x)))\n",
    "        x = x.view(-1, 16 * 5 * 5)\n",
    "        x = F.relu(self.fc1(x))\n",
    "        x = F.relu(self.fc2(x))\n",
    "        x = self.fc3(x)\n",
    "        return x\n",
    "\n",
    "# Initialize model\n",
    "model = TheModelClass()\n",
    "\n",
    "# Initialize optimizer\n",
    "optimizer = optim.SGD(model.parameters(), lr=0.001, momentum=0.9)\n",
    "print(optimizer)\n",
    "# Print model's state_dict\n",
    "print(\"Model's state_dict:\")\n",
    "for param_tensor in model.state_dict():\n",
    "    print(param_tensor, \"\\t\", model.state_dict()[param_tensor].size())\n",
    "\n",
    "# Print optimizer's state_dict\n",
    "print(\"Optimizer's state_dict:\")\n",
    "for var_name in optimizer.state_dict():\n",
    "    print(var_name, \"\\t\", optimizer.state_dict()[var_name])\n",
    "    "
   ]
  },
  {
   "cell_type": "markdown",
   "metadata": {
    "pycharm": {
     "metadata": false,
     "name": "#%% md\n"
    }
   },
   "source": [
    "\n",
    "## 2. torch.save"
   ]
  },
  {
   "cell_type": "markdown",
   "metadata": {
    "pycharm": {
     "metadata": false,
     "name": "#%% md\n"
    }
   },
   "source": [
    "\n",
    "### resource code\n",
    "\n",
    "在 torch.serialization.save()里源码如下:\n",
    "\n",
    "```\n",
    "def save(obj, f, pickle_module=pickle, pickle_protocol=DEFAULT_PROTOCOL):\n",
    "    # 其中obj一般是字典格式数据, f为`.pth, .pt`格式的二进制压缩文件, pickle_module默认为pickle\n",
    "    # \n",
    "    return _with_file_like(f, \"wb\", lambda f: _save(obj, f, pickle_module, pickle_protocol))\n",
    "```\n",
    "\n",
    "\n",
    "其中`_with_file_like`源码如下:\n",
    "\n",
    "```\n",
    "def _with_file_like(f, mode, body):\n",
    "    \"\"\"\n",
    "    Executes a body function with a file object for f, opening\n",
    "    it in 'mode' if it is a string filename.\n",
    "    \"\"\"\n",
    "    new_fd = False\n",
    "    if isinstance(f, str) or \\\n",
    "            (sys.version_info[0] == 2 and isinstance(f, unicode)) or \\\n",
    "            (sys.version_info[0] == 3 and isinstance(f, pathlib.Path)):\n",
    "        new_fd = True\n",
    "        f = open(f, mode)\n",
    "    try:\n",
    "        return body(f)\n",
    "    finally:\n",
    "        if new_fd:\n",
    "            f.close()\n",
    "```\n",
    "\n",
    "```\n",
    "def save(obj, f, pickle_module=pickle, pickle_protocol=DEFAULT_PROTOCOL):\n",
    "\n",
    "    pickle_module.dump(MAGIC_NUMBER, f, protocol=pickle_protocol)\n",
    "    pickle_module.dump(PROTOCOL_VERSION, f, protocol=pickle_protocol)\n",
    "    pickle_module.dump(sys_info, f, protocol=pickle_protocol)\n",
    "    pickler = pickle_module.Pickler(f, protocol=pickle_protocol)\n",
    "    pickler.persistent_id = persistent_id\n",
    "    pickler.dump(obj)\n",
    "\n",
    "    serialized_storage_keys = sorted(serialized_storages.keys())\n",
    "    pickle_module.dump(serialized_storage_keys, f, protocol=pickle_protocol)\n",
    "    f.flush()\n",
    "\n",
    "```\n",
    "\n",
    "**可以看到其实整个保存过程就是利用的pickle序列化工具来保存字典数据**\n",
    "\n",
    "example\n",
    "\n",
    "```\n",
    "torch.save({\n",
    "            'epoch': epoch,\n",
    "            'model_state_dict': model.state_dict(),  # dict(['weight': torch.tensor, 'bias': torch.tensor])\n",
    "            'optimizer_state_dict': optimizer.state_dict(), # 一般也会把optimizer的有关优化器状态以及所用超参数的信息保存\n",
    "            'loss': loss,\n",
    "            ...\n",
    "            }, PATH)\n",
    "```\n"
   ]
  }
 ],
 "metadata": {
  "kernelspec": {
   "display_name": "Python 3",
   "language": "python",
   "name": "python3"
  },
  "language_info": {
   "codemirror_mode": {
    "name": "ipython",
    "version": 3
   },
   "file_extension": ".py",
   "mimetype": "text/x-python",
   "name": "python",
   "nbconvert_exporter": "python",
   "pygments_lexer": "ipython3",
   "version": "3.6.4"
  }
 },
 "nbformat": 4,
 "nbformat_minor": 1
}
